{
 "cells": [
  {
   "cell_type": "code",
   "execution_count": 1,
   "metadata": {},
   "outputs": [],
   "source": [
    "import numpy as np\n",
    "import matplotlib.pyplot as plt\n",
    "import pandas as pd\n",
    "from sklearn.preprocessing import MinMaxScaler\n",
    "from tensorflow.keras.models import Sequential\n",
    "from tensorflow.keras.layers import Dense\n",
    "from tensorflow.keras.layers import LSTM\n",
    "import tensorflow as tf\n",
    "\n",
    "#Steps to follow\n",
    "#1.Preprocess the data - train and test\n",
    "#2.Create a Stacked LSTM model\n",
    "#3.Predict the Covid-19 cases and plot the graph\n",
    "#4.Predict the future one week"
   ]
  },
  {
   "cell_type": "code",
   "execution_count": 2,
   "metadata": {},
   "outputs": [],
   "source": [
    "data = pd.read_csv('cases.csv')\n",
    "MO_cases = data.reset_index()[\"State\"]\n",
    "County_cases = data.reset_index()[\"County\"]\n",
    "Zip_cases = data.reset_index()[\"Zip\"]"
   ]
  },
  {
   "cell_type": "code",
   "execution_count": 3,
   "metadata": {},
   "outputs": [
    {
     "data": {
      "text/plain": [
       "[<matplotlib.lines.Line2D at 0x15239c8b0>]"
      ]
     },
     "execution_count": 3,
     "metadata": {},
     "output_type": "execute_result"
    },
    {
     "data": {
      "image/png": "[encoded data removed]",
      "text/plain": [
       "<Figure size 432x288 with 1 Axes>"
      ]
     },
     "metadata": {
      "needs_background": "light"
     },
     "output_type": "display_data"
    }
   ],
   "source": [
    "plt.plot(Zip_cases)"
   ]
  },
  {
   "cell_type": "code",
   "execution_count": 4,
   "metadata": {},
   "outputs": [],
   "source": [
    "#Lstm are very much sensitive to the scale of the data. \n",
    "#We need to transform the data. We use MinMax scaler where will be transforming our values between 0 and 1.\n",
    "#get rid of bias in the data, as some values are max and some are min for ex: 100 and 5. So, we convert all the values in between 1 and 0"
   ]
  },
  {
   "cell_type": "code",
   "execution_count": 5,
   "metadata": {},
   "outputs": [],
   "source": [
    "scaler = MinMaxScaler(feature_range=(0,1))\n",
    "MO_cases = scaler.fit_transform(np.array(MO_cases).reshape(-1,1))\n",
    "County_cases = scaler.fit_transform(np.array(County_cases).reshape(-1,1))\n",
    "Zip_cases = scaler.fit_transform(np.array(Zip_cases).reshape(-1,1))"
   ]
  },
  {
   "cell_type": "code",
   "execution_count": 6,
   "metadata": {},
   "outputs": [],
   "source": [
    "##splitting dataset into train and test split\n",
    "training_size_MO=int(len(MO_cases)*0.65)\n",
    "test_size_MO=len(MO_cases)-training_size_MO\n",
    "train_data_MO,test_data_MO = MO_cases[0:training_size_MO,:],MO_cases[training_size_MO:len(MO_cases),:1]"
   ]
  },
  {
   "cell_type": "code",
   "execution_count": 7,
   "metadata": {},
   "outputs": [],
   "source": [
    "#Converting the data into independent and dependent feature based on timesteps\n",
    "# convert an array of values into a dataset matrix\n",
    "def create_dataset(dataset, time_step=1):\n",
    "    dataX, dataY = [], []\n",
    "    for i in range(len(dataset)-time_step-1):\n",
    "        a = dataset[i:(i+time_step), 0] \n",
    "        dataX.append(a)\n",
    "        dataY.append(dataset[i + time_step, 0])\n",
    "    return np.array(dataX), np.array(dataY)"
   ]
  },
  {
   "cell_type": "code",
   "execution_count": 33,
   "metadata": {},
   "outputs": [],
   "source": [
    "time_step = 3\n",
    "X_train, y_train = create_dataset(train_data_MO, time_step)\n",
    "X_test, y_test = create_dataset(test_data_MO, time_step)"
   ]
  },
  {
   "cell_type": "code",
   "execution_count": 34,
   "metadata": {},
   "outputs": [
    {
     "name": "stdout",
     "output_type": "stream",
     "text": [
      "(29, 3)\n",
      "(29,)\n"
     ]
    },
    {
     "data": {
      "text/plain": [
       "(None, None)"
      ]
     },
     "execution_count": 34,
     "metadata": {},
     "output_type": "execute_result"
    }
   ],
   "source": [
    "print(X_test.shape), print(y_test.shape)"
   ]
  },
  {
   "cell_type": "code",
   "execution_count": 35,
   "metadata": {},
   "outputs": [
    {
     "name": "stdout",
     "output_type": "stream",
     "text": [
      "[0.62969525 0.59691708 0.69117647 0.58522325 1.         0.53632176\n",
      " 0.53437279 0.88855422 0.6883416  0.64617293 0.69312544 0.73954642\n",
      " 0.6224309  0.47271439 0.54252303 0.60754784 0.6677888  0.45552799\n",
      " 0.26612332 0.44135365 0.39457831 0.35028349 0.58398299 0.59372785\n",
      " 0.76169383 0.56236712 0.34656272 0.45145287 0.34337349]\n"
     ]
    }
   ],
   "source": [
    "print(y_test)"
   ]
  },
  {
   "cell_type": "code",
   "execution_count": 36,
   "metadata": {},
   "outputs": [],
   "source": [
    "# reshape input to be [samples, time steps, features] into three dimension which is required for LSTM\n",
    "X_train =X_train.reshape(X_train.shape[0],X_train.shape[1] , 1)\n",
    "X_test = X_test.reshape(X_test.shape[0],X_test.shape[1] , 1)"
   ]
  },
  {
   "cell_type": "code",
   "execution_count": 37,
   "metadata": {},
   "outputs": [],
   "source": [
    "model=Sequential()\n",
    "model.add(LSTM(10,return_sequences=True,input_shape=(8,1)))\n",
    "model.add(LSTM(10,return_sequences=True))\n",
    "model.add(LSTM(10))\n",
    "model.add(Dense(1))\n",
    "model.compile(loss='mean_squared_error',optimizer='adam')"
   ]
  },
  {
   "cell_type": "code",
   "execution_count": 38,
   "metadata": {},
   "outputs": [
    {
     "name": "stdout",
     "output_type": "stream",
     "text": [
      "Model: \"sequential_3\"\n",
      "_________________________________________________________________\n",
      "Layer (type)                 Output Shape              Param #   \n",
      "=================================================================\n",
      "lstm_9 (LSTM)                (None, 8, 10)             480       \n",
      "_________________________________________________________________\n",
      "lstm_10 (LSTM)               (None, 8, 10)             840       \n",
      "_________________________________________________________________\n",
      "lstm_11 (LSTM)               (None, 10)                840       \n",
      "_________________________________________________________________\n",
      "dense_3 (Dense)              (None, 1)                 11        \n",
      "=================================================================\n",
      "Total params: 2,171\n",
      "Trainable params: 2,171\n",
      "Non-trainable params: 0\n",
      "_________________________________________________________________\n"
     ]
    }
   ],
   "source": [
    "model.summary()"
   ]
  },
  {
   "cell_type": "code",
   "execution_count": 45,
   "metadata": {},
   "outputs": [
    {
     "name": "stdout",
     "output_type": "stream",
     "text": [
      "Epoch 1/100\n",
      "2/2 [==============================] - 0s 23ms/step - loss: 0.0192 - val_loss: 0.1408\n",
      "Epoch 2/100\n",
      "2/2 [==============================] - 0s 12ms/step - loss: 0.0192 - val_loss: 0.1396\n",
      "Epoch 3/100\n",
      "2/2 [==============================] - 0s 12ms/step - loss: 0.0192 - val_loss: 0.1380\n",
      "Epoch 4/100\n",
      "2/2 [==============================] - 0s 11ms/step - loss: 0.0192 - val_loss: 0.1368\n",
      "Epoch 5/100\n",
      "2/2 [==============================] - 0s 11ms/step - loss: 0.0191 - val_loss: 0.1358\n",
      "Epoch 6/100\n",
      "2/2 [==============================] - 0s 11ms/step - loss: 0.0191 - val_loss: 0.1351\n",
      "Epoch 7/100\n",
      "2/2 [==============================] - 0s 12ms/step - loss: 0.0191 - val_loss: 0.1331\n",
      "Epoch 8/100\n",
      "2/2 [==============================] - 0s 12ms/step - loss: 0.0191 - val_loss: 0.1321\n",
      "Epoch 9/100\n",
      "2/2 [==============================] - 0s 11ms/step - loss: 0.0190 - val_loss: 0.1306\n",
      "Epoch 10/100\n",
      "2/2 [==============================] - 0s 11ms/step - loss: 0.0190 - val_loss: 0.1294\n",
      "Epoch 11/100\n",
      "2/2 [==============================] - 0s 11ms/step - loss: 0.0190 - val_loss: 0.1280\n",
      "Epoch 12/100\n",
      "2/2 [==============================] - 0s 11ms/step - loss: 0.0190 - val_loss: 0.1261\n",
      "Epoch 13/100\n",
      "2/2 [==============================] - 0s 11ms/step - loss: 0.0189 - val_loss: 0.1241\n",
      "Epoch 14/100\n",
      "2/2 [==============================] - 0s 10ms/step - loss: 0.0189 - val_loss: 0.1230\n",
      "Epoch 15/100\n",
      "2/2 [==============================] - 0s 12ms/step - loss: 0.0189 - val_loss: 0.1216\n",
      "Epoch 16/100\n",
      "2/2 [==============================] - 0s 11ms/step - loss: 0.0189 - val_loss: 0.1200\n",
      "Epoch 17/100\n",
      "2/2 [==============================] - 0s 11ms/step - loss: 0.0188 - val_loss: 0.1188\n",
      "Epoch 18/100\n",
      "2/2 [==============================] - 0s 11ms/step - loss: 0.0188 - val_loss: 0.1171\n",
      "Epoch 19/100\n",
      "2/2 [==============================] - 0s 11ms/step - loss: 0.0188 - val_loss: 0.1157\n",
      "Epoch 20/100\n",
      "2/2 [==============================] - 0s 11ms/step - loss: 0.0188 - val_loss: 0.1148\n",
      "Epoch 21/100\n",
      "2/2 [==============================] - 0s 10ms/step - loss: 0.0187 - val_loss: 0.1142\n",
      "Epoch 22/100\n",
      "2/2 [==============================] - 0s 11ms/step - loss: 0.0187 - val_loss: 0.1129\n",
      "Epoch 23/100\n",
      "2/2 [==============================] - 0s 12ms/step - loss: 0.0187 - val_loss: 0.1118\n",
      "Epoch 24/100\n",
      "2/2 [==============================] - 0s 11ms/step - loss: 0.0187 - val_loss: 0.1111\n",
      "Epoch 25/100\n",
      "2/2 [==============================] - 0s 11ms/step - loss: 0.0187 - val_loss: 0.1093\n",
      "Epoch 26/100\n",
      "2/2 [==============================] - 0s 11ms/step - loss: 0.0186 - val_loss: 0.1080\n",
      "Epoch 27/100\n",
      "2/2 [==============================] - 0s 11ms/step - loss: 0.0186 - val_loss: 0.1075\n",
      "Epoch 28/100\n",
      "2/2 [==============================] - 0s 10ms/step - loss: 0.0186 - val_loss: 0.1065\n",
      "Epoch 29/100\n",
      "2/2 [==============================] - 0s 11ms/step - loss: 0.0186 - val_loss: 0.1050\n",
      "Epoch 30/100\n",
      "2/2 [==============================] - 0s 11ms/step - loss: 0.0186 - val_loss: 0.1029\n",
      "Epoch 31/100\n",
      "2/2 [==============================] - 0s 10ms/step - loss: 0.0185 - val_loss: 0.1020\n",
      "Epoch 32/100\n",
      "2/2 [==============================] - 0s 11ms/step - loss: 0.0185 - val_loss: 0.1009\n",
      "Epoch 33/100\n",
      "2/2 [==============================] - 0s 11ms/step - loss: 0.0185 - val_loss: 0.0992\n",
      "Epoch 34/100\n",
      "2/2 [==============================] - 0s 10ms/step - loss: 0.0185 - val_loss: 0.0981\n",
      "Epoch 35/100\n",
      "2/2 [==============================] - 0s 11ms/step - loss: 0.0185 - val_loss: 0.0968\n",
      "Epoch 36/100\n",
      "2/2 [==============================] - 0s 11ms/step - loss: 0.0185 - val_loss: 0.0958\n",
      "Epoch 37/100\n",
      "2/2 [==============================] - 0s 10ms/step - loss: 0.0185 - val_loss: 0.0936\n",
      "Epoch 38/100\n",
      "2/2 [==============================] - 0s 11ms/step - loss: 0.0185 - val_loss: 0.0922\n",
      "Epoch 39/100\n",
      "2/2 [==============================] - 0s 11ms/step - loss: 0.0185 - val_loss: 0.0910\n",
      "Epoch 40/100\n",
      "2/2 [==============================] - 0s 10ms/step - loss: 0.0184 - val_loss: 0.0908\n",
      "Epoch 41/100\n",
      "2/2 [==============================] - 0s 11ms/step - loss: 0.0185 - val_loss: 0.0907\n",
      "Epoch 42/100\n",
      "2/2 [==============================] - 0s 11ms/step - loss: 0.0184 - val_loss: 0.0899\n",
      "Epoch 43/100\n",
      "2/2 [==============================] - 0s 12ms/step - loss: 0.0184 - val_loss: 0.0893\n",
      "Epoch 44/100\n",
      "2/2 [==============================] - 0s 11ms/step - loss: 0.0184 - val_loss: 0.0880\n",
      "Epoch 45/100\n",
      "2/2 [==============================] - 0s 12ms/step - loss: 0.0184 - val_loss: 0.0870\n",
      "Epoch 46/100\n",
      "2/2 [==============================] - 0s 11ms/step - loss: 0.0184 - val_loss: 0.0872\n",
      "Epoch 47/100\n",
      "2/2 [==============================] - 0s 10ms/step - loss: 0.0184 - val_loss: 0.0879\n",
      "Epoch 48/100\n",
      "2/2 [==============================] - 0s 11ms/step - loss: 0.0184 - val_loss: 0.0890\n",
      "Epoch 49/100\n",
      "2/2 [==============================] - 0s 11ms/step - loss: 0.0184 - val_loss: 0.0902\n",
      "Epoch 50/100\n",
      "2/2 [==============================] - 0s 11ms/step - loss: 0.0184 - val_loss: 0.0907\n",
      "Epoch 51/100\n",
      "2/2 [==============================] - 0s 12ms/step - loss: 0.0184 - val_loss: 0.0905\n",
      "Epoch 52/100\n",
      "2/2 [==============================] - 0s 12ms/step - loss: 0.0184 - val_loss: 0.0899\n",
      "Epoch 53/100\n",
      "2/2 [==============================] - 0s 10ms/step - loss: 0.0184 - val_loss: 0.0874\n",
      "Epoch 54/100\n",
      "2/2 [==============================] - 0s 11ms/step - loss: 0.0184 - val_loss: 0.0853\n",
      "Epoch 55/100\n",
      "2/2 [==============================] - 0s 10ms/step - loss: 0.0183 - val_loss: 0.0846\n",
      "Epoch 56/100\n",
      "2/2 [==============================] - 0s 11ms/step - loss: 0.0183 - val_loss: 0.0842\n",
      "Epoch 57/100\n",
      "2/2 [==============================] - 0s 10ms/step - loss: 0.0183 - val_loss: 0.0843\n",
      "Epoch 58/100\n",
      "2/2 [==============================] - 0s 11ms/step - loss: 0.0184 - val_loss: 0.0834\n",
      "Epoch 59/100\n",
      "2/2 [==============================] - 0s 10ms/step - loss: 0.0183 - val_loss: 0.0841\n",
      "Epoch 60/100\n",
      "2/2 [==============================] - 0s 12ms/step - loss: 0.0183 - val_loss: 0.0839\n",
      "Epoch 61/100\n",
      "2/2 [==============================] - 0s 11ms/step - loss: 0.0183 - val_loss: 0.0849\n",
      "Epoch 62/100\n",
      "2/2 [==============================] - 0s 11ms/step - loss: 0.0183 - val_loss: 0.0853\n",
      "Epoch 63/100\n",
      "2/2 [==============================] - 0s 10ms/step - loss: 0.0183 - val_loss: 0.0849\n",
      "Epoch 64/100\n",
      "2/2 [==============================] - 0s 10ms/step - loss: 0.0183 - val_loss: 0.0853\n",
      "Epoch 65/100\n",
      "2/2 [==============================] - 0s 10ms/step - loss: 0.0183 - val_loss: 0.0851\n",
      "Epoch 66/100\n",
      "2/2 [==============================] - 0s 10ms/step - loss: 0.0183 - val_loss: 0.0840\n",
      "Epoch 67/100\n",
      "2/2 [==============================] - 0s 10ms/step - loss: 0.0183 - val_loss: 0.0824\n",
      "Epoch 68/100\n",
      "2/2 [==============================] - 0s 10ms/step - loss: 0.0183 - val_loss: 0.0815\n",
      "Epoch 69/100\n",
      "2/2 [==============================] - 0s 11ms/step - loss: 0.0183 - val_loss: 0.0809\n",
      "Epoch 70/100\n",
      "2/2 [==============================] - 0s 10ms/step - loss: 0.0183 - val_loss: 0.0821\n",
      "Epoch 71/100\n",
      "2/2 [==============================] - 0s 10ms/step - loss: 0.0183 - val_loss: 0.0822\n",
      "Epoch 72/100\n",
      "2/2 [==============================] - 0s 10ms/step - loss: 0.0182 - val_loss: 0.0832\n",
      "Epoch 73/100\n",
      "2/2 [==============================] - 0s 10ms/step - loss: 0.0182 - val_loss: 0.0838\n",
      "Epoch 74/100\n",
      "2/2 [==============================] - 0s 11ms/step - loss: 0.0182 - val_loss: 0.0847\n",
      "Epoch 75/100\n",
      "2/2 [==============================] - 0s 10ms/step - loss: 0.0182 - val_loss: 0.0853\n",
      "Epoch 76/100\n",
      "2/2 [==============================] - 0s 10ms/step - loss: 0.0182 - val_loss: 0.0852\n",
      "Epoch 77/100\n",
      "2/2 [==============================] - 0s 10ms/step - loss: 0.0182 - val_loss: 0.0858\n",
      "Epoch 78/100\n",
      "2/2 [==============================] - 0s 11ms/step - loss: 0.0182 - val_loss: 0.0852\n",
      "Epoch 79/100\n",
      "2/2 [==============================] - 0s 11ms/step - loss: 0.0182 - val_loss: 0.0835\n",
      "Epoch 80/100\n",
      "2/2 [==============================] - 0s 11ms/step - loss: 0.0182 - val_loss: 0.0825\n",
      "Epoch 81/100\n",
      "2/2 [==============================] - 0s 11ms/step - loss: 0.0182 - val_loss: 0.0826\n",
      "Epoch 82/100\n",
      "2/2 [==============================] - 0s 11ms/step - loss: 0.0182 - val_loss: 0.0829\n",
      "Epoch 83/100\n",
      "2/2 [==============================] - 0s 10ms/step - loss: 0.0182 - val_loss: 0.0834\n"
     ]
    },
    {
     "name": "stdout",
     "output_type": "stream",
     "text": [
      "Epoch 84/100\n",
      "2/2 [==============================] - 0s 10ms/step - loss: 0.0182 - val_loss: 0.0842\n",
      "Epoch 85/100\n",
      "2/2 [==============================] - 0s 11ms/step - loss: 0.0181 - val_loss: 0.0843\n",
      "Epoch 86/100\n",
      "2/2 [==============================] - 0s 10ms/step - loss: 0.0182 - val_loss: 0.0841\n",
      "Epoch 87/100\n",
      "2/2 [==============================] - 0s 10ms/step - loss: 0.0181 - val_loss: 0.0834\n",
      "Epoch 88/100\n",
      "2/2 [==============================] - 0s 12ms/step - loss: 0.0181 - val_loss: 0.0817\n",
      "Epoch 89/100\n",
      "2/2 [==============================] - 0s 11ms/step - loss: 0.0181 - val_loss: 0.0802\n",
      "Epoch 90/100\n",
      "2/2 [==============================] - 0s 10ms/step - loss: 0.0181 - val_loss: 0.0798\n",
      "Epoch 91/100\n",
      "2/2 [==============================] - 0s 11ms/step - loss: 0.0181 - val_loss: 0.0795\n",
      "Epoch 92/100\n",
      "2/2 [==============================] - 0s 12ms/step - loss: 0.0181 - val_loss: 0.0805\n",
      "Epoch 93/100\n",
      "2/2 [==============================] - 0s 11ms/step - loss: 0.0181 - val_loss: 0.0816\n",
      "Epoch 94/100\n",
      "2/2 [==============================] - 0s 11ms/step - loss: 0.0181 - val_loss: 0.0821\n",
      "Epoch 95/100\n",
      "2/2 [==============================] - 0s 11ms/step - loss: 0.0181 - val_loss: 0.0839\n",
      "Epoch 96/100\n",
      "2/2 [==============================] - 0s 11ms/step - loss: 0.0181 - val_loss: 0.0840\n",
      "Epoch 97/100\n",
      "2/2 [==============================] - 0s 11ms/step - loss: 0.0181 - val_loss: 0.0844\n",
      "Epoch 98/100\n",
      "2/2 [==============================] - 0s 10ms/step - loss: 0.0181 - val_loss: 0.0841\n",
      "Epoch 99/100\n",
      "2/2 [==============================] - 0s 11ms/step - loss: 0.0180 - val_loss: 0.0836\n",
      "Epoch 100/100\n",
      "2/2 [==============================] - 0s 10ms/step - loss: 0.0180 - val_loss: 0.0820\n"
     ]
    },
    {
     "data": {
      "text/plain": [
       "<tensorflow.python.keras.callbacks.History at 0x157f81340>"
      ]
     },
     "execution_count": 45,
     "metadata": {},
     "output_type": "execute_result"
    }
   ],
   "source": [
    "model.fit(X_train,y_train,validation_data=(X_test,y_test),epochs=100,batch_size=32,verbose=1)\n"
   ]
  },
  {
   "cell_type": "code",
   "execution_count": 46,
   "metadata": {},
   "outputs": [],
   "source": [
    "## Prediction and check performance metrics\n",
    "train_predict=model.predict(X_train)\n",
    "test_predict=model.predict(X_test)"
   ]
  },
  {
   "cell_type": "code",
   "execution_count": 47,
   "metadata": {},
   "outputs": [],
   "source": [
    "##Transformback to original form\n",
    "train_predict=scaler.inverse_transform(train_predict)\n",
    "test_predict=scaler.inverse_transform(test_predict)\n"
   ]
  },
  {
   "cell_type": "code",
   "execution_count": 83,
   "metadata": {},
   "outputs": [
    {
     "data": {
      "image/png": "[encoded data removed]",
      "text/plain": [
       "<Figure size 432x288 with 1 Axes>"
      ]
     },
     "metadata": {
      "needs_background": "light"
     },
     "output_type": "display_data"
    }
   ],
   "source": [
    "# ### Plotting \n",
    "# # shift train predictions for plotting\n",
    "# look_back=10\n",
    "# trainPredictPlot = np.empty_like(MO_cases)\n",
    "# trainPredictPlot[:, :] = np.nan\n",
    "# #trainPredictPlot[look_back:len(train_predict)+look_back, :] = train_predict\n",
    "# # shift test predictions for plotting\n",
    "# testPredictPlot = np.empty_like(MO_cases)\n",
    "# testPredictPlot[:, :] = np.nan\n",
    "# #testPredictPlot[len(train_predict)+(look_back*2)+1:len(MO_cases)-1, :] = test_predict\n",
    "# #testPredictPlot[len(train_predict)+look_back:len(MO_cases)-1, :] = test_predict\n",
    "# # plot baseline and predictions\n",
    "# plt.plot(scaler.inverse_transform(MO_cases))\n",
    "# #plt.plot(train_predict)\n",
    "# plt.plot(test_predict)\n",
    "# plt.show()\n",
    "\n",
    "look_back=10\n",
    "trainPredictPlot = np.empty_like(MO_cases)\n",
    "trainPredictPlot[look_back:len(train_predict)+look_back, :] = train_predict\n",
    "plt.plot(scaler.inverse_transform(MO_cases), color = 'black', label = 'Real')\n",
    "plt.plot(train_predict, color = 'green', label = 'Train Predict')\n",
    "plt.plot(test_predict, color = 'red', label = 'Test predict')\n",
    "plt.title('VIX Prediction')\n",
    "plt.xlabel('Time')\n",
    "plt.ylabel('VIX Index')\n",
    "plt.legend()\n",
    "plt.show()\n"
   ]
  },
  {
   "cell_type": "raw",
   "metadata": {},
   "source": [
    "len(test_data)"
   ]
  },
  {
   "cell_type": "code",
   "execution_count": 85,
   "metadata": {},
   "outputs": [
    {
     "data": {
      "text/plain": [
       "33"
      ]
     },
     "execution_count": 85,
     "metadata": {},
     "output_type": "execute_result"
    }
   ],
   "source": [
    "len(test_data_MO)"
   ]
  },
  {
   "cell_type": "code",
   "execution_count": null,
   "metadata": {},
   "outputs": [],
   "source": [
    "\n",
    "x_input=test_data_MO[341:].reshape(1,-1)\n",
    "x_input.shape"
   ]
  }
 ],
 "metadata": {
  "kernelspec": {
   "display_name": "Python 3",
   "language": "python",
   "name": "python3"
  },
  "language_info": {
   "codemirror_mode": {
    "name": "ipython",
    "version": 3
   },
   "file_extension": ".py",
   "mimetype": "text/x-python",
   "name": "python",
   "nbconvert_exporter": "python",
   "pygments_lexer": "ipython3",
   "version": "3.8.5"
  }
 },
 "nbformat": 4,
 "nbformat_minor": 4
}
