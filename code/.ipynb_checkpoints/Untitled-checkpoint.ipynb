{
 "cells": [
  {
   "cell_type": "code",
   "execution_count": 66,
   "metadata": {},
   "outputs": [],
   "source": [
    "import numpy as np\n",
    "import matplotlib.pyplot as plt\n",
    "import pandas as pd\n",
    "from sklearn.preprocessing import MinMaxScaler\n",
    "from tensorflow.keras.models import Sequential\n",
    "from tensorflow.keras.layers import Dense\n",
    "from tensorflow.keras.layers import LSTM\n",
    "import tensorflow as tf\n",
    "\n",
    "#Steps to follow\n",
    "#1.Preprocess the data - train and test\n",
    "#2.Create a Stacked LSTM model\n",
    "#3.Predict the Covid-19 cases and plot the graph\n",
    "#4.Predict the future one week"
   ]
  },
  {
   "cell_type": "code",
   "execution_count": 25,
   "metadata": {},
   "outputs": [],
   "source": [
    "data = pd.read_csv('cases.csv')\n",
    "MO_cases = data.reset_index()[\"State\"]\n",
    "County_cases = data.reset_index()[\"County\"]\n",
    "Zip_cases = data.reset_index()[\"Zip\"]"
   ]
  },
  {
   "cell_type": "code",
   "execution_count": 26,
   "metadata": {},
   "outputs": [
    {
     "data": {
      "text/plain": [
       "[<matplotlib.lines.Line2D at 0x13b7e1c10>]"
      ]
     },
     "execution_count": 26,
     "metadata": {},
     "output_type": "execute_result"
    },
    {
     "data": {
      "image/png": "[encoded data removed]",
      "text/plain": [
       "<Figure size 432x288 with 1 Axes>"
      ]
     },
     "metadata": {
      "needs_background": "light"
     },
     "output_type": "display_data"
    }
   ],
   "source": [
    "plt.plot(Zip_cases)"
   ]
  },
  {
   "cell_type": "code",
   "execution_count": 27,
   "metadata": {},
   "outputs": [],
   "source": [
    "#Lstm are very much sensitive to the scale of the data. \n",
    "#We need to transform the data. We use MinMax scaler where will be transforming our values between 0 and 1.\n",
    "#get rid of bias in the data, as some values are max and some are min for ex: 100 and 5. So, we convert all the values in between 1 and 0"
   ]
  },
  {
   "cell_type": "code",
   "execution_count": 28,
   "metadata": {},
   "outputs": [],
   "source": [
    "scaler = MinMaxScaler(feature_range=(0,1))\n",
    "MO_cases = scaler.fit_transform(np.array(MO_cases).reshape(-1,1))\n",
    "County_cases = scaler.fit_transform(np.array(County_cases).reshape(-1,1))\n",
    "Zip_cases = scaler.fit_transform(np.array(Zip_cases).reshape(-1,1))"
   ]
  },
  {
   "cell_type": "code",
   "execution_count": 36,
   "metadata": {},
   "outputs": [],
   "source": [
    "##splitting dataset into train and test split\n",
    "training_size_MO=int(len(MO_cases)*0.65)\n",
    "test_size_MO=len(MO_cases)-training_size_MO\n",
    "train_data_MO,test_data_MO = MO_cases[0:training_size_MO,:],MO_cases[training_size_MO:len(MO_cases),:1]"
   ]
  },
  {
   "cell_type": "code",
   "execution_count": 43,
   "metadata": {},
   "outputs": [],
   "source": [
    "#Converting the data into independent and dependent feature based on timesteps\n",
    "# convert an array of values into a dataset matrix\n",
    "def create_dataset(dataset, time_step=1):\n",
    "    dataX, dataY = [], []\n",
    "    for i in range(len(dataset)-time_step-1):\n",
    "        a = dataset[i:(i+time_step), 0] \n",
    "        dataX.append(a)\n",
    "        dataY.append(dataset[i + time_step, 0])\n",
    "    return np.array(dataX), np.array(dataY)"
   ]
  },
  {
   "cell_type": "code",
   "execution_count": 57,
   "metadata": {},
   "outputs": [],
   "source": [
    "time_step = 8\n",
    "X_train, y_train = create_dataset(train_data_MO, time_step)\n",
    "X_test, y_test = create_dataset(test_data_MO, time_step)"
   ]
  },
  {
   "cell_type": "code",
   "execution_count": 58,
   "metadata": {},
   "outputs": [
    {
     "name": "stdout",
     "output_type": "stream",
     "text": [
      "(24, 8)\n",
      "(24,)\n"
     ]
    },
    {
     "data": {
      "text/plain": [
       "(None, None)"
      ]
     },
     "execution_count": 58,
     "metadata": {},
     "output_type": "execute_result"
    }
   ],
   "source": [
    "print(X_test.shape), print(y_test.shape)"
   ]
  },
  {
   "cell_type": "code",
   "execution_count": 59,
   "metadata": {},
   "outputs": [],
   "source": [
    "# reshape input to be [samples, time steps, features] into three dimension which is required for LSTM\n",
    "X_train =X_train.reshape(X_train.shape[0],X_train.shape[1] , 1)\n",
    "X_test = X_test.reshape(X_test.shape[0],X_test.shape[1] , 1)"
   ]
  },
  {
   "cell_type": "code",
   "execution_count": 63,
   "metadata": {},
   "outputs": [],
   "source": [
    "model=Sequential()\n",
    "model.add(LSTM(10,return_sequences=True,input_shape=(8,1)))\n",
    "model.add(LSTM(10,return_sequences=True))\n",
    "model.add(LSTM(10))\n",
    "model.add(Dense(1))\n",
    "model.compile(loss='mean_squared_error',optimizer='adam')"
   ]
  },
  {
   "cell_type": "code",
   "execution_count": 64,
   "metadata": {},
   "outputs": [
    {
     "name": "stdout",
     "output_type": "stream",
     "text": [
      "Model: \"sequential_1\"\n",
      "_________________________________________________________________\n",
      "Layer (type)                 Output Shape              Param #   \n",
      "=================================================================\n",
      "lstm_3 (LSTM)                (None, 8, 50)             10400     \n",
      "_________________________________________________________________\n",
      "lstm_4 (LSTM)                (None, 8, 50)             20200     \n",
      "_________________________________________________________________\n",
      "lstm_5 (LSTM)                (None, 50)                20200     \n",
      "_________________________________________________________________\n",
      "dense_1 (Dense)              (None, 1)                 51        \n",
      "=================================================================\n",
      "Total params: 50,851\n",
      "Trainable params: 50,851\n",
      "Non-trainable params: 0\n",
      "_________________________________________________________________\n"
     ]
    }
   ],
   "source": [
    "model.summary()"
   ]
  },
  {
   "cell_type": "code",
   "execution_count": 65,
   "metadata": {},
   "outputs": [
    {
     "name": "stdout",
     "output_type": "stream",
     "text": [
      "Epoch 1/100\n",
      "1/1 [==============================] - 1s 784ms/step - loss: 0.0507 - val_loss: 0.2578\n",
      "Epoch 2/100\n",
      "1/1 [==============================] - 0s 16ms/step - loss: 0.0450 - val_loss: 0.2292\n",
      "Epoch 3/100\n",
      "1/1 [==============================] - 0s 19ms/step - loss: 0.0395 - val_loss: 0.1998\n",
      "Epoch 4/100\n",
      "1/1 [==============================] - 0s 18ms/step - loss: 0.0342 - val_loss: 0.1694\n",
      "Epoch 5/100\n",
      "1/1 [==============================] - 0s 18ms/step - loss: 0.0293 - val_loss: 0.1382\n",
      "Epoch 6/100\n",
      "1/1 [==============================] - 0s 18ms/step - loss: 0.0249 - val_loss: 0.1071\n",
      "Epoch 7/100\n",
      "1/1 [==============================] - 0s 17ms/step - loss: 0.0217 - val_loss: 0.0778\n",
      "Epoch 8/100\n",
      "1/1 [==============================] - 0s 19ms/step - loss: 0.0201 - val_loss: 0.0537\n",
      "Epoch 9/100\n",
      "1/1 [==============================] - 0s 20ms/step - loss: 0.0208 - val_loss: 0.0392\n",
      "Epoch 10/100\n",
      "1/1 [==============================] - 0s 19ms/step - loss: 0.0230 - val_loss: 0.0342\n",
      "Epoch 11/100\n",
      "1/1 [==============================] - 0s 18ms/step - loss: 0.0245 - val_loss: 0.0350\n",
      "Epoch 12/100\n",
      "1/1 [==============================] - 0s 23ms/step - loss: 0.0244 - val_loss: 0.0396\n",
      "Epoch 13/100\n",
      "1/1 [==============================] - 0s 22ms/step - loss: 0.0233 - val_loss: 0.0473\n",
      "Epoch 14/100\n",
      "1/1 [==============================] - 0s 20ms/step - loss: 0.0219 - val_loss: 0.0572\n",
      "Epoch 15/100\n",
      "1/1 [==============================] - 0s 17ms/step - loss: 0.0208 - val_loss: 0.0681\n",
      "Epoch 16/100\n",
      "1/1 [==============================] - 0s 18ms/step - loss: 0.0202 - val_loss: 0.0789\n",
      "Epoch 17/100\n",
      "1/1 [==============================] - 0s 18ms/step - loss: 0.0200 - val_loss: 0.0887\n",
      "Epoch 18/100\n",
      "1/1 [==============================] - 0s 18ms/step - loss: 0.0202 - val_loss: 0.0969\n",
      "Epoch 19/100\n",
      "1/1 [==============================] - 0s 19ms/step - loss: 0.0205 - val_loss: 0.1030\n",
      "Epoch 20/100\n",
      "1/1 [==============================] - 0s 18ms/step - loss: 0.0208 - val_loss: 0.1071\n",
      "Epoch 21/100\n",
      "1/1 [==============================] - 0s 17ms/step - loss: 0.0211 - val_loss: 0.1092\n",
      "Epoch 22/100\n",
      "1/1 [==============================] - 0s 18ms/step - loss: 0.0212 - val_loss: 0.1094\n",
      "Epoch 23/100\n",
      "1/1 [==============================] - 0s 18ms/step - loss: 0.0212 - val_loss: 0.1081\n",
      "Epoch 24/100\n",
      "1/1 [==============================] - 0s 18ms/step - loss: 0.0210 - val_loss: 0.1053\n",
      "Epoch 25/100\n",
      "1/1 [==============================] - 0s 18ms/step - loss: 0.0208 - val_loss: 0.1016\n",
      "Epoch 26/100\n",
      "1/1 [==============================] - 0s 17ms/step - loss: 0.0206 - val_loss: 0.0971\n",
      "Epoch 27/100\n",
      "1/1 [==============================] - 0s 18ms/step - loss: 0.0204 - val_loss: 0.0922\n",
      "Epoch 28/100\n",
      "1/1 [==============================] - 0s 17ms/step - loss: 0.0202 - val_loss: 0.0873\n",
      "Epoch 29/100\n",
      "1/1 [==============================] - 0s 18ms/step - loss: 0.0201 - val_loss: 0.0825\n",
      "Epoch 30/100\n",
      "1/1 [==============================] - 0s 17ms/step - loss: 0.0200 - val_loss: 0.0782\n",
      "Epoch 31/100\n",
      "1/1 [==============================] - 0s 17ms/step - loss: 0.0201 - val_loss: 0.0747\n",
      "Epoch 32/100\n",
      "1/1 [==============================] - 0s 18ms/step - loss: 0.0201 - val_loss: 0.0721\n",
      "Epoch 33/100\n",
      "1/1 [==============================] - 0s 18ms/step - loss: 0.0202 - val_loss: 0.0704\n",
      "Epoch 34/100\n",
      "1/1 [==============================] - 0s 17ms/step - loss: 0.0203 - val_loss: 0.0699\n",
      "Epoch 35/100\n",
      "1/1 [==============================] - 0s 19ms/step - loss: 0.0203 - val_loss: 0.0703\n",
      "Epoch 36/100\n",
      "1/1 [==============================] - 0s 18ms/step - loss: 0.0203 - val_loss: 0.0715\n",
      "Epoch 37/100\n",
      "1/1 [==============================] - 0s 18ms/step - loss: 0.0202 - val_loss: 0.0734\n",
      "Epoch 38/100\n",
      "1/1 [==============================] - 0s 18ms/step - loss: 0.0201 - val_loss: 0.0758\n",
      "Epoch 39/100\n",
      "1/1 [==============================] - 0s 16ms/step - loss: 0.0201 - val_loss: 0.0784\n",
      "Epoch 40/100\n",
      "1/1 [==============================] - 0s 17ms/step - loss: 0.0200 - val_loss: 0.0810\n",
      "Epoch 41/100\n",
      "1/1 [==============================] - 0s 19ms/step - loss: 0.0200 - val_loss: 0.0833\n",
      "Epoch 42/100\n",
      "1/1 [==============================] - 0s 19ms/step - loss: 0.0200 - val_loss: 0.0853\n",
      "Epoch 43/100\n",
      "1/1 [==============================] - 0s 18ms/step - loss: 0.0200 - val_loss: 0.0868\n",
      "Epoch 44/100\n",
      "1/1 [==============================] - 0s 18ms/step - loss: 0.0200 - val_loss: 0.0877\n",
      "Epoch 45/100\n",
      "1/1 [==============================] - 0s 18ms/step - loss: 0.0200 - val_loss: 0.0880\n",
      "Epoch 46/100\n",
      "1/1 [==============================] - 0s 22ms/step - loss: 0.0200 - val_loss: 0.0876\n",
      "Epoch 47/100\n",
      "1/1 [==============================] - 0s 19ms/step - loss: 0.0200 - val_loss: 0.0867\n",
      "Epoch 48/100\n",
      "1/1 [==============================] - 0s 18ms/step - loss: 0.0200 - val_loss: 0.0853\n",
      "Epoch 49/100\n",
      "1/1 [==============================] - 0s 18ms/step - loss: 0.0200 - val_loss: 0.0836\n",
      "Epoch 50/100\n",
      "1/1 [==============================] - 0s 17ms/step - loss: 0.0200 - val_loss: 0.0816\n",
      "Epoch 51/100\n",
      "1/1 [==============================] - 0s 17ms/step - loss: 0.0199 - val_loss: 0.0795\n",
      "Epoch 52/100\n",
      "1/1 [==============================] - 0s 17ms/step - loss: 0.0199 - val_loss: 0.0774\n",
      "Epoch 53/100\n",
      "1/1 [==============================] - 0s 18ms/step - loss: 0.0199 - val_loss: 0.0755\n",
      "Epoch 54/100\n",
      "1/1 [==============================] - 0s 17ms/step - loss: 0.0199 - val_loss: 0.0738\n",
      "Epoch 55/100\n",
      "1/1 [==============================] - 0s 16ms/step - loss: 0.0199 - val_loss: 0.0725\n",
      "Epoch 56/100\n",
      "1/1 [==============================] - 0s 16ms/step - loss: 0.0199 - val_loss: 0.0716\n",
      "Epoch 57/100\n",
      "1/1 [==============================] - 0s 16ms/step - loss: 0.0199 - val_loss: 0.0711\n",
      "Epoch 58/100\n",
      "1/1 [==============================] - 0s 18ms/step - loss: 0.0199 - val_loss: 0.0709\n",
      "Epoch 59/100\n",
      "1/1 [==============================] - 0s 17ms/step - loss: 0.0199 - val_loss: 0.0711\n",
      "Epoch 60/100\n",
      "1/1 [==============================] - 0s 17ms/step - loss: 0.0199 - val_loss: 0.0715\n",
      "Epoch 61/100\n",
      "1/1 [==============================] - 0s 17ms/step - loss: 0.0199 - val_loss: 0.0721\n",
      "Epoch 62/100\n",
      "1/1 [==============================] - 0s 17ms/step - loss: 0.0199 - val_loss: 0.0727\n",
      "Epoch 63/100\n",
      "1/1 [==============================] - 0s 18ms/step - loss: 0.0199 - val_loss: 0.0733\n",
      "Epoch 64/100\n",
      "1/1 [==============================] - 0s 18ms/step - loss: 0.0199 - val_loss: 0.0737\n",
      "Epoch 65/100\n",
      "1/1 [==============================] - 0s 17ms/step - loss: 0.0199 - val_loss: 0.0738\n",
      "Epoch 66/100\n",
      "1/1 [==============================] - 0s 17ms/step - loss: 0.0198 - val_loss: 0.0738\n",
      "Epoch 67/100\n",
      "1/1 [==============================] - 0s 17ms/step - loss: 0.0198 - val_loss: 0.0735\n",
      "Epoch 68/100\n",
      "1/1 [==============================] - 0s 17ms/step - loss: 0.0198 - val_loss: 0.0729\n",
      "Epoch 69/100\n",
      "1/1 [==============================] - 0s 19ms/step - loss: 0.0198 - val_loss: 0.0721\n",
      "Epoch 70/100\n",
      "1/1 [==============================] - 0s 18ms/step - loss: 0.0198 - val_loss: 0.0711\n",
      "Epoch 71/100\n",
      "1/1 [==============================] - 0s 18ms/step - loss: 0.0198 - val_loss: 0.0700\n",
      "Epoch 72/100\n",
      "1/1 [==============================] - 0s 18ms/step - loss: 0.0198 - val_loss: 0.0689\n",
      "Epoch 73/100\n",
      "1/1 [==============================] - 0s 17ms/step - loss: 0.0198 - val_loss: 0.0679\n",
      "Epoch 74/100\n",
      "1/1 [==============================] - 0s 17ms/step - loss: 0.0198 - val_loss: 0.0669\n",
      "Epoch 75/100\n",
      "1/1 [==============================] - 0s 17ms/step - loss: 0.0198 - val_loss: 0.0661\n",
      "Epoch 76/100\n",
      "1/1 [==============================] - 0s 18ms/step - loss: 0.0198 - val_loss: 0.0655\n",
      "Epoch 77/100\n",
      "1/1 [==============================] - 0s 18ms/step - loss: 0.0198 - val_loss: 0.0651\n",
      "Epoch 78/100\n",
      "1/1 [==============================] - 0s 17ms/step - loss: 0.0198 - val_loss: 0.0649\n",
      "Epoch 79/100\n",
      "1/1 [==============================] - 0s 17ms/step - loss: 0.0198 - val_loss: 0.0649\n",
      "Epoch 80/100\n",
      "1/1 [==============================] - 0s 19ms/step - loss: 0.0198 - val_loss: 0.0649\n",
      "Epoch 81/100\n",
      "1/1 [==============================] - 0s 18ms/step - loss: 0.0198 - val_loss: 0.0650\n",
      "Epoch 82/100\n",
      "1/1 [==============================] - 0s 18ms/step - loss: 0.0197 - val_loss: 0.0651\n",
      "Epoch 83/100\n",
      "1/1 [==============================] - 0s 17ms/step - loss: 0.0197 - val_loss: 0.0652\n"
     ]
    },
    {
     "name": "stdout",
     "output_type": "stream",
     "text": [
      "Epoch 84/100\n",
      "1/1 [==============================] - 0s 18ms/step - loss: 0.0197 - val_loss: 0.0651\n",
      "Epoch 85/100\n",
      "1/1 [==============================] - 0s 17ms/step - loss: 0.0197 - val_loss: 0.0650\n",
      "Epoch 86/100\n",
      "1/1 [==============================] - 0s 17ms/step - loss: 0.0197 - val_loss: 0.0647\n",
      "Epoch 87/100\n",
      "1/1 [==============================] - 0s 17ms/step - loss: 0.0197 - val_loss: 0.0643\n",
      "Epoch 88/100\n",
      "1/1 [==============================] - 0s 17ms/step - loss: 0.0197 - val_loss: 0.0638\n",
      "Epoch 89/100\n",
      "1/1 [==============================] - 0s 18ms/step - loss: 0.0197 - val_loss: 0.0633\n",
      "Epoch 90/100\n",
      "1/1 [==============================] - 0s 18ms/step - loss: 0.0197 - val_loss: 0.0627\n",
      "Epoch 91/100\n",
      "1/1 [==============================] - 0s 19ms/step - loss: 0.0197 - val_loss: 0.0622\n",
      "Epoch 92/100\n",
      "1/1 [==============================] - 0s 19ms/step - loss: 0.0197 - val_loss: 0.0618\n",
      "Epoch 93/100\n",
      "1/1 [==============================] - 0s 19ms/step - loss: 0.0197 - val_loss: 0.0614\n",
      "Epoch 94/100\n",
      "1/1 [==============================] - 0s 19ms/step - loss: 0.0197 - val_loss: 0.0611\n",
      "Epoch 95/100\n",
      "1/1 [==============================] - 0s 19ms/step - loss: 0.0197 - val_loss: 0.0610\n",
      "Epoch 96/100\n",
      "1/1 [==============================] - 0s 19ms/step - loss: 0.0196 - val_loss: 0.0609\n",
      "Epoch 97/100\n",
      "1/1 [==============================] - 0s 20ms/step - loss: 0.0196 - val_loss: 0.0610\n",
      "Epoch 98/100\n",
      "1/1 [==============================] - 0s 19ms/step - loss: 0.0196 - val_loss: 0.0610\n",
      "Epoch 99/100\n",
      "1/1 [==============================] - 0s 19ms/step - loss: 0.0196 - val_loss: 0.0611\n",
      "Epoch 100/100\n",
      "1/1 [==============================] - 0s 20ms/step - loss: 0.0196 - val_loss: 0.0611\n"
     ]
    },
    {
     "data": {
      "text/plain": [
       "<tensorflow.python.keras.callbacks.History at 0x15d82d040>"
      ]
     },
     "execution_count": 65,
     "metadata": {},
     "output_type": "execute_result"
    }
   ],
   "source": [
    "model.fit(X_train,y_train,validation_data=(X_test,ytest),epochs=100,batch_size=64,verbose=1)\n"
   ]
  },
  {
   "cell_type": "code",
   "execution_count": 67,
   "metadata": {},
   "outputs": [
    {
     "data": {
      "text/plain": [
       "'2.3.1'"
      ]
     },
     "execution_count": 67,
     "metadata": {},
     "output_type": "execute_result"
    }
   ],
   "source": [
    "tf.__version__"
   ]
  },
  {
   "cell_type": "code",
   "execution_count": 70,
   "metadata": {},
   "outputs": [],
   "source": [
    "## Prediction and check performance metrics\n",
    "train_predict=model.predict(X_train)\n",
    "test_predict=model.predict(X_test)"
   ]
  },
  {
   "cell_type": "code",
   "execution_count": 71,
   "metadata": {},
   "outputs": [],
   "source": [
    "##Transformback to original form\n",
    "train_predict=scaler.inverse_transform(train_predict)\n",
    "test_predict=scaler.inverse_transform(test_predict)"
   ]
  },
  {
   "cell_type": "code",
   "execution_count": 73,
   "metadata": {},
   "outputs": [
    {
     "ename": "ValueError",
     "evalue": "could not broadcast input array from shape (51,1) into shape (0,1)",
     "output_type": "error",
     "traceback": [
      "\u001b[0;31m---------------------------------------------------------------------------\u001b[0m",
      "\u001b[0;31mValueError\u001b[0m                                Traceback (most recent call last)",
      "\u001b[0;32m<ipython-input-73-a3c2b23a4962>\u001b[0m in \u001b[0;36m<module>\u001b[0;34m\u001b[0m\n\u001b[1;32m      4\u001b[0m \u001b[0mtrainPredictPlot\u001b[0m \u001b[0;34m=\u001b[0m \u001b[0mnp\u001b[0m\u001b[0;34m.\u001b[0m\u001b[0mempty_like\u001b[0m\u001b[0;34m(\u001b[0m\u001b[0mMO_cases\u001b[0m\u001b[0;34m)\u001b[0m\u001b[0;34m\u001b[0m\u001b[0;34m\u001b[0m\u001b[0m\n\u001b[1;32m      5\u001b[0m \u001b[0mtrainPredictPlot\u001b[0m\u001b[0;34m[\u001b[0m\u001b[0;34m:\u001b[0m\u001b[0;34m,\u001b[0m \u001b[0;34m:\u001b[0m\u001b[0;34m]\u001b[0m \u001b[0;34m=\u001b[0m \u001b[0mnp\u001b[0m\u001b[0;34m.\u001b[0m\u001b[0mnan\u001b[0m\u001b[0;34m\u001b[0m\u001b[0;34m\u001b[0m\u001b[0m\n\u001b[0;32m----> 6\u001b[0;31m \u001b[0mtrainPredictPlot\u001b[0m\u001b[0;34m[\u001b[0m\u001b[0mlook_back\u001b[0m\u001b[0;34m:\u001b[0m\u001b[0mlen\u001b[0m\u001b[0;34m(\u001b[0m\u001b[0mtrain_predict\u001b[0m\u001b[0;34m)\u001b[0m\u001b[0;34m+\u001b[0m\u001b[0mlook_back\u001b[0m\u001b[0;34m,\u001b[0m \u001b[0;34m:\u001b[0m\u001b[0;34m]\u001b[0m \u001b[0;34m=\u001b[0m \u001b[0mtrain_predict\u001b[0m\u001b[0;34m\u001b[0m\u001b[0;34m\u001b[0m\u001b[0m\n\u001b[0m\u001b[1;32m      7\u001b[0m \u001b[0;31m# shift test predictions for plotting\u001b[0m\u001b[0;34m\u001b[0m\u001b[0;34m\u001b[0m\u001b[0;34m\u001b[0m\u001b[0m\n\u001b[1;32m      8\u001b[0m \u001b[0mtestPredictPlot\u001b[0m \u001b[0;34m=\u001b[0m \u001b[0mnp\u001b[0m\u001b[0;34m.\u001b[0m\u001b[0mempty_like\u001b[0m\u001b[0;34m(\u001b[0m\u001b[0mMO_cases\u001b[0m\u001b[0;34m)\u001b[0m\u001b[0;34m\u001b[0m\u001b[0;34m\u001b[0m\u001b[0m\n",
      "\u001b[0;31mValueError\u001b[0m: could not broadcast input array from shape (51,1) into shape (0,1)"
     ]
    }
   ],
   "source": [
    "### Plotting \n",
    "# shift train predictions for plotting\n",
    "look_back=100\n",
    "trainPredictPlot = np.empty_like(MO_cases)\n",
    "trainPredictPlot[:, :] = np.nan\n",
    "trainPredictPlot[look_back:len(train_predict)+look_back, :] = train_predict\n",
    "# shift test predictions for plotting\n",
    "testPredictPlot = np.empty_like(MO_cases)\n",
    "testPredictPlot[:, :] = np.nan\n",
    "testPredictPlot[len(train_predict)+(look_back*2)+1:len(MO_cases)-1, :] = test_predict\n",
    "# plot baseline and predictions\n",
    "plt.plot(scaler.inverse_transform(MO_cases))\n",
    "plt.plot(trainPredictPlot)\n",
    "plt.plot(testPredictPlot)\n",
    "plt.show()"
   ]
  },
  {
   "cell_type": "code",
   "execution_count": null,
   "metadata": {},
   "outputs": [],
   "source": []
  }
 ],
 "metadata": {
  "kernelspec": {
   "display_name": "Python 3",
   "language": "python",
   "name": "python3"
  },
  "language_info": {
   "codemirror_mode": {
    "name": "ipython",
    "version": 3
   },
   "file_extension": ".py",
   "mimetype": "text/x-python",
   "name": "python",
   "nbconvert_exporter": "python",
   "pygments_lexer": "ipython3",
   "version": "3.8.5"
  }
 },
 "nbformat": 4,
 "nbformat_minor": 4
}
